{
 "cells": [
  {
   "cell_type": "markdown",
   "metadata": {},
   "source": [
    "# 概念定义"
   ]
  },
  {
   "cell_type": "markdown",
   "metadata": {},
   "source": [
    "## 算法基本思想"
   ]
  },
  {
   "cell_type": "markdown",
   "metadata": {},
   "source": [
    "算法基本思想为分治法："
   ]
  },
  {
   "cell_type": "markdown",
   "metadata": {},
   "source": [
    "![trees](./img/d_trees.png)"
   ]
  },
  {
   "cell_type": "markdown",
   "metadata": {},
   "source": [
    "# 划分选择"
   ]
  },
  {
   "cell_type": "markdown",
   "metadata": {},
   "source": [
    "我们需要选择最优划分属性以提高结点的“纯度”"
   ]
  },
  {
   "cell_type": "markdown",
   "metadata": {},
   "source": [
    "**选择指标**\n",
    "- 信息增益（Information Gain）\n",
    "- 基尼指数（Gini Index）\n",
    "- 均方差（MSE）"
   ]
  },
  {
   "cell_type": "markdown",
   "metadata": {},
   "source": [
    "## 信息增益（Information Gain）"
   ]
  },
  {
   "cell_type": "markdown",
   "metadata": {},
   "source": [
    "假定离散属性 $a$ 有 $V$ 个可能的取值 $\\{a^1,a^2,...,a^V\\}$"
   ]
  },
  {
   "cell_type": "markdown",
   "metadata": {},
   "source": [
    "**信息熵**\n",
    "$$Ent(D)=-\\sum_{k=1}^{|y|}P_klog_2P_k$$\n",
    "\n",
    "$P_k$ 为样本集 $D$ 中 $k$ 类样本所占比例。"
   ]
  },
  {
   "cell_type": "markdown",
   "metadata": {},
   "source": [
    "**信息增益**（ID3）\n",
    "$$Gain(D,a)=Ent(D)-\\sum_{v=1}^V\\frac{|D^V|}{|D|}Ent(D^v)$$\n",
    "\n",
    "$D^V$ 是样本 $D$ 中在属性 $a$ 上取值为 $V$ 的样本"
   ]
  },
  {
   "cell_type": "markdown",
   "metadata": {},
   "source": [
    "$Gain(D,a) \\uparrow 用a划分D的纯度\\uparrow$"
   ]
  },
  {
   "cell_type": "markdown",
   "metadata": {},
   "source": [
    "增益准则对可取值数目较多的属性有偏好，所以引入增益率"
   ]
  },
  {
   "cell_type": "markdown",
   "metadata": {},
   "source": [
    "**信息增益率**（C4.5）\n",
    "$$Gain\\_ratio(D,a)=\\frac{Gain(D,a)}{IV(a)}$$\n",
    "\n",
    "$$IV(a)=-\\sum_{v=1}^V\\frac{|D^V|}{|D|}log_2\\frac{|D^V|}{|D|}$$\n",
    "\n",
    "其中 $IV(a)$ 是属性 $a$ 的固有值"
   ]
  },
  {
   "cell_type": "markdown",
   "metadata": {},
   "source": [
    "增益率对可取值数目较少的属性有偏好，所以使用启发式：\n",
    "1. 先从候选划分中找出信息增益高于平均水平的属性\n",
    "2. 再从中选出增益率最高的"
   ]
  },
  {
   "cell_type": "markdown",
   "metadata": {},
   "source": [
    "## 基尼指数（Gini Index）"
   ]
  },
  {
   "cell_type": "markdown",
   "metadata": {},
   "source": [
    "CART决策树使用基尼指数"
   ]
  },
  {
   "cell_type": "markdown",
   "metadata": {},
   "source": [
    "**基尼值**\n",
    "$$Gini(D)=\\sum_{k=1}^{|y|}\\sum_{k^{\\prime}\\ne k}P_kP_k^{\\prime}\\ \\ \\ \\ (k={1,2,\\cdots,y})$$\n",
    "\n",
    "$$=1-\\sum_{k=1}^{|y|}P_k^2\\ \\ \\ \\ (k={1,2,\\cdots,y})$$"
   ]
  },
  {
   "cell_type": "markdown",
   "metadata": {},
   "source": [
    "**基尼指数**\n",
    "$$Gini_index(D,a)=\\sum_{v=1}^{V}\\frac{|D^v|}{|D|}Gini(D^v)$$"
   ]
  },
  {
   "cell_type": "markdown",
   "metadata": {},
   "source": [
    "$Gini(D,a) \\downarrow 用a划分D的纯度\\uparrow$"
   ]
  },
  {
   "cell_type": "markdown",
   "metadata": {},
   "source": [
    "# 剪枝处理"
   ]
  },
  {
   "cell_type": "markdown",
   "metadata": {},
   "source": [
    "决策树的剪枝基本策略有 预剪枝 (Pre-Pruning) 和 后剪枝 (Post-Pruning):\n",
    "\n",
    "- 预剪枝：其中的核心思想就是，在每一次实际对结点进行进一步划分之前，先采用验证集的数据来验证如果划分是否能提高划分的准确性。如果不能，就把结点标记为叶结点并退出进一步划分；如果可以就继续递归生成节点。\n",
    "- 后剪枝：后剪枝则是先从训练集生成一颗完整的决策树，然后自底向上地对非叶结点进行考察，若将该结点对应的子树替换为叶结点能带来泛化性能提升，则将该子树替换为叶结点。\n"
   ]
  },
  {
   "cell_type": "markdown",
   "metadata": {},
   "source": [
    "## 预剪枝"
   ]
  },
  {
   "cell_type": "markdown",
   "metadata": {},
   "source": []
  },
  {
   "cell_type": "markdown",
   "metadata": {},
   "source": [
    "## 后剪枝"
   ]
  },
  {
   "cell_type": "markdown",
   "metadata": {},
   "source": []
  },
  {
   "cell_type": "markdown",
   "metadata": {},
   "source": [
    "# 连续值与缺失值处理"
   ]
  },
  {
   "cell_type": "markdown",
   "metadata": {},
   "source": [
    "见笔记本"
   ]
  }
 ],
 "metadata": {
  "kernelspec": {
   "display_name": "Python 3",
   "language": "python",
   "name": "python3"
  },
  "language_info": {
   "codemirror_mode": {
    "name": "ipython",
    "version": 3
   },
   "file_extension": ".py",
   "mimetype": "text/x-python",
   "name": "python",
   "nbconvert_exporter": "python",
   "pygments_lexer": "ipython3",
   "version": "3.7.0"
  },
  "toc": {
   "base_numbering": 1,
   "nav_menu": {},
   "number_sections": true,
   "sideBar": true,
   "skip_h1_title": false,
   "title_cell": "Table of Contents",
   "title_sidebar": "Contents",
   "toc_cell": false,
   "toc_position": {},
   "toc_section_display": true,
   "toc_window_display": true
  }
 },
 "nbformat": 4,
 "nbformat_minor": 2
}

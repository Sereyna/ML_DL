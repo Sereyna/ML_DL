{
 "cells": [
  {
   "cell_type": "markdown",
   "metadata": {},
   "source": [
    "# 概念定义"
   ]
  },
  {
   "cell_type": "markdown",
   "metadata": {},
   "source": [
    "**线性与非线性**\n",
    "- 线性linear，指量与量之间按比例、成直线的关系，在数学上可以理解为一阶导数为常数的函数（如果两个不同因素的组合作用只是两个因素单独作用的简单叠加，这种关系或特性就是线性的）\n",
    "- 非线性non-linear则指不按比例、不成直线的关系，一阶导数不为常数"
   ]
  },
  {
   "cell_type": "markdown",
   "metadata": {},
   "source": [
    "**基本形式**\n",
    "\n",
    "目标值 $y$ 是输入变量 $x$ 的线性组合:\n",
    "$$y=\\omega^Tx+b$$\n",
    "\n",
    "如果 $\\hat{y}$ 是预测值，则有:\n",
    "$$\\hat{y}(\\omega,x)=\\omega_1x_1+\\omega_2x_2+...+\\omega_nx_n+b$$\n",
    "\n",
    "在sklearn中，我们定义向量 $ \\omega= (\\omega_1,..., \\omega_n)$ 作为 `coef_` ，定义 $b$ 作为 `intercept_` 。"
   ]
  },
  {
   "cell_type": "markdown",
   "metadata": {},
   "source": [
    "# 最小二乘法"
   ]
  },
  {
   "cell_type": "markdown",
   "metadata": {},
   "source": [
    "## 目标函数"
   ]
  },
  {
   "cell_type": "markdown",
   "metadata": {},
   "source": [
    "数据集实际观测数据 $y$ 和预测数据（估计值） $\\hat{y}$ 之间的残差平方和最小\n",
    "\n",
    "(2.1)$$\\underset{\\omega}{min}\\lVert X\\omega-Y\\rVert^2_2$$\n",
    "(2.2)$$J=\\frac{1}{2m}\\sum_{i=1}^{m}(\\hat{y}^{(i)}-y^{(i)})^2$$ \n",
    "\n",
    "其中 $m$ 为训练样本数"
   ]
  },
  {
   "cell_type": "markdown",
   "metadata": {},
   "source": [
    "## 计算方法(奇异值分解)"
   ]
  },
  {
   "cell_type": "markdown",
   "metadata": {},
   "source": [
    "由式（2.1）求解 $\\omega$ 最优解 $\\hat{\\omega}^*$：\n",
    "\n",
    "$$\\hat{\\omega}^*=\\underset{\\hat{\\omega}}{argmin}(Y-X\\hat{\\omega})^T(Y-X\\hat{\\omega})$$\n",
    "\n",
    "令 $E\\hat{\\omega}=(Y-X\\hat{\\omega})^T(Y-X\\hat{\\omega})$ ，则令\n",
    "\n",
    "(式2.3)\n",
    "$$\\frac{\\partial E\\hat{\\omega}}{\\partial\\hat{\\omega}}=2X^T(X\\hat{\\omega}-Y)=0$$\n",
    "\n",
    "可求 $\\hat{\\omega}$ 最优解 $\\hat{\\omega}^*$\n",
    "\n",
    "由式（2.3）可得：\n",
    "\n",
    "(式2.4)\n",
    "$$\\hat{\\omega}^*=(X^TX)^{-1}X^TY$$"
   ]
  },
  {
   "cell_type": "markdown",
   "metadata": {},
   "source": [
    "使用到 $X^TX$ 的逆矩阵，这种求解方式有几个问题： \n",
    "\n",
    "1. 涉及到 $n\\times n$ 维矩阵的求逆运算，实际使用中计算量巨大。 \n",
    "2. 可能不可逆，这个可以用 $L2$ 正则或者求解伪逆的形式解决。\n",
    "\n",
    "现实任务中 $X^TX$ 往往不是满秩矩阵，不可逆而无法直接得出最优解，考虑用奇异值分解求解。"
   ]
  },
  {
   "cell_type": "markdown",
   "metadata": {},
   "source": [
    "对 $X$ 进行奇异值分解可得：\n",
    "\n",
    "(式2.5)\n",
    "$$\\lVert X\\omega-Y\\rVert^2_2=\\lVert U\\begin{bmatrix}\\Sigma \\\\0\\end{bmatrix}V^T\\omega-Y\\rVert=\\lVert\\begin{bmatrix}\\Sigma \\\\0\\end{bmatrix}V^T\\omega-U^TY\\rVert$$"
   ]
  },
  {
   "cell_type": "markdown",
   "metadata": {},
   "source": [
    "令 $U_n$ 为 $U$ 的前 $n$ 列矩阵，即 $U=[U_n,U_{m-n}]$ 可得：\n",
    "$$\\lVert\\begin{bmatrix}\\Sigma \\\\0\\end{bmatrix}V^T\\omega-[U_n,U_{m-n}]^TY\\rVert$$\n",
    "\n",
    "$$=\\lVert[\\Sigma V^T\\omega-U_n^TY-U_{m-n}^TY]\\rVert$$\n",
    "\n",
    "$$=\\lVert\\Sigma V^T\\omega-U_n^TY\\rVert+\\lVert U_{m-n}^TY\\rVert\\geq\\lVert U_{m-n}^TY\\rVert$$\n",
    "\n",
    "等号当且仅当 $\\Sigma V^T\\omega-U_n^TY=0$时成立，此时 $\\lVert X\\omega-Y\\rVert^2_2$ 最小，即：\n",
    "$$\\omega=(\\Sigma V^T)^{-1}U_n^TY=V\\Sigma^{-1}U_n^TY$$"
   ]
  },
  {
   "cell_type": "markdown",
   "metadata": {},
   "source": [
    "**特殊情况**\n",
    "\n",
    "奇异值求唯一解前提是 $m>n$ 即 $X$为超定矩阵 ，当 $X$ 特征值数 $>$ 样本数为欠定矩阵，即 $m<n$ 时，会有多组解，此时需引入正则项做选择。"
   ]
  },
  {
   "cell_type": "markdown",
   "metadata": {},
   "source": [
    "## 普通最小二乘法复杂度"
   ]
  },
  {
   "cell_type": "markdown",
   "metadata": {},
   "source": [
    "该方法使用 $X$ 的奇异值分解来计算最小二乘解。如果 $X$ 是一个形状为 $(n_{samples}, n_{features})$ 的矩阵，设 $$ n_{samples} \\geq n_{features} $$ , 则该方法的复杂度为 $$ O(n_{samples} n_{fearures}^2) $$"
   ]
  }
 ],
 "metadata": {
  "kernelspec": {
   "display_name": "Python 3",
   "language": "python",
   "name": "python3"
  },
  "language_info": {
   "codemirror_mode": {
    "name": "ipython",
    "version": 3
   },
   "file_extension": ".py",
   "mimetype": "text/x-python",
   "name": "python",
   "nbconvert_exporter": "python",
   "pygments_lexer": "ipython3",
   "version": "3.7.0"
  },
  "toc": {
   "base_numbering": 1,
   "nav_menu": {},
   "number_sections": true,
   "sideBar": true,
   "skip_h1_title": false,
   "title_cell": "Table of Contents",
   "title_sidebar": "Contents",
   "toc_cell": false,
   "toc_position": {},
   "toc_section_display": true,
   "toc_window_display": true
  }
 },
 "nbformat": 4,
 "nbformat_minor": 2
}

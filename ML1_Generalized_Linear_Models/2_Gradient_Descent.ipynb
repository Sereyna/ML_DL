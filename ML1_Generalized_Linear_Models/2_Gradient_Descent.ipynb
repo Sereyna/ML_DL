{
 "cells": [
  {
   "cell_type": "markdown",
   "metadata": {},
   "source": [
    "# 概念定义"
   ]
  },
  {
   "cell_type": "markdown",
   "metadata": {},
   "source": [
    "## 算法基本思想"
   ]
  },
  {
   "cell_type": "markdown",
   "metadata": {},
   "source": [
    "**第一步：**确定模型的假设函数和损失函数\n",
    "\n",
    "假设函数：$$h_\\theta(x)=\\theta_0+\\theta_1x$$\n",
    "损失函数：$$J(\\theta_0,\\theta_1)=\\frac{1}{2m}\\sum_{i=1}^{m}(h_\\theta(x^{(i)})-y^{(i)})^2$$\n",
    "损失函数其他写法：$$J(\\theta)=\\frac{1}{2m}(Y-X\\theta)^T(Y-X\\theta)$$\n",
    "其中 $\\theta=(\\theta_1,\\theta_0)$\n",
    "\n",
    "**第二步：**相关参数的初始化，包括：参数、算法终止距离和步长\n",
    "\n",
    "参数 $\\theta$ —— 最终所求使得J最小的 $\\theta$ 值\n",
    "\n",
    "步长 $\\alpha$ —— 学习率\n",
    "\n",
    "**第三步：**确定当前位置损失函数的梯度\n",
    "\n",
    "$$gradients=\\frac{\\partial J(\\theta)}{\\partial\\theta}=\\frac{1}{m}X^T(X\\theta-Y)$$\n",
    "\n",
    "**第四步：**用步长乘以梯度，得到当前位置下降的距离\n",
    "\n",
    "$$\\theta_{new}=\\theta-\\alpha* gradients$$\n",
    "\n",
    "**第五步：**确定是否所有参数梯度下降的距离都小于算法终止距离，如果小于则算法终止，或是否到达迭代次数上限，如果到达则算法终止，否则进行下一步\n",
    "\n",
    "**第六步：**更新所有参数，更新完毕转到步骤1\n"
   ]
  },
  {
   "cell_type": "markdown",
   "metadata": {},
   "source": [
    "# 随机梯度下降"
   ]
  },
  {
   "cell_type": "markdown",
   "metadata": {},
   "source": [
    "# Mini-batch GD"
   ]
  },
  {
   "cell_type": "markdown",
   "metadata": {},
   "source": [
    "# 面临的问题"
   ]
  },
  {
   "cell_type": "markdown",
   "metadata": {},
   "source": [
    "局部最小值和鞍点"
   ]
  }
 ],
 "metadata": {
  "kernelspec": {
   "display_name": "Python 3",
   "language": "python",
   "name": "python3"
  },
  "language_info": {
   "codemirror_mode": {
    "name": "ipython",
    "version": 3
   },
   "file_extension": ".py",
   "mimetype": "text/x-python",
   "name": "python",
   "nbconvert_exporter": "python",
   "pygments_lexer": "ipython3",
   "version": "3.7.0"
  },
  "toc": {
   "base_numbering": 1,
   "nav_menu": {},
   "number_sections": true,
   "sideBar": true,
   "skip_h1_title": false,
   "title_cell": "Table of Contents",
   "title_sidebar": "Contents",
   "toc_cell": false,
   "toc_position": {},
   "toc_section_display": true,
   "toc_window_display": true
  }
 },
 "nbformat": 4,
 "nbformat_minor": 2
}
